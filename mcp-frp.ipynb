{
 "cells": [
  {
   "cell_type": "code",
   "execution_count": null,
   "metadata": {
    "id": "nj36YrOw2qFL"
   },
   "outputs": [],
   "source": [
    "# 功能描述：挂载google drive，点击右侧的 挂载云端硬盘 按钮可以避免重复验证过程\n",
    "import os\n",
    "from google.colab import drive\n",
    "if not os.path.exists('/content/drive'):\n",
    "  drive.mount('/content/drive')"
   ]
  },
  {
   "cell_type": "code",
   "execution_count": null,
   "metadata": {},
   "outputs": [],
   "source": [
    "# 自动设置和运行 frpc 客户端\n",
    "import os\n",
    "import subprocess\n",
    "\n",
    "# 创建代码目录\n",
    "code_dir = '/content/drive/MyDrive/code'\n",
    "mcp_frp_dir = f'{code_dir}/mcp-frp'\n",
    "\n",
    "# 创建目录\n",
    "os.makedirs(code_dir, exist_ok=True)\n",
    "print(f\"确保目录存在: {code_dir}\")\n",
    "\n",
    "# 检查 mcp-frp 是否存在，不存在则下载，存在则更新\n",
    "if not os.path.exists(mcp_frp_dir):\n",
    "    print(\"mcp-frp 目录不存在，正在从 GitHub 下载...\")\n",
    "    os.chdir(code_dir)\n",
    "    result = subprocess.run(['git', 'clone', 'https://github.com/eatcosmos/mcp-frp.git'], \n",
    "                          capture_output=True, text=True)\n",
    "    if result.returncode == 0:\n",
    "        print(\"✅ mcp-frp 下载成功\")\n",
    "    else:\n",
    "        print(f\"❌ 下载失败: {result.stderr}\")\n",
    "        raise Exception(\"无法下载 mcp-frp\")\n",
    "else:\n",
    "    print(\"✅ mcp-frp 目录已存在，正在拉取最新版本...\")\n",
    "    os.chdir(mcp_frp_dir)\n",
    "    result = subprocess.run(['git', 'pull'], capture_output=True, text=True)\n",
    "    if result.returncode == 0:\n",
    "        print(\"✅ 代码更新成功\")\n",
    "        if \"Already up to date\" in result.stdout:\n",
    "            print(\"ℹ️ 代码已经是最新版本\")\n",
    "        else:\n",
    "            print(\"📦 已拉取最新更改\")\n",
    "    else:\n",
    "        print(f\"⚠️ 更新失败，继续使用现有版本: {result.stderr}\")\n",
    "        # 即使更新失败也继续执行，使用现有版本\n",
    "\n",
    "# 设置环境变量\n",
    "from google.colab import userdata\n",
    "try:\n",
    "    server_ip = userdata.get('FRPS_SERVER_IP')\n",
    "    os.environ['FRPS_SERVER_IP'] = server_ip\n",
    "    print(f\"✅ 设置服务器 IP: {server_ip}\")\n",
    "except:\n",
    "    print(\"❌ 请在 colab secrets 中设置 FRPS_SERVER_IP\")\n",
    "    raise Exception(\"需要设置 FRPS_SERVER_IP\")\n",
    "\n",
    "# 先设置 SSH 服务\n",
    "print(\"正在设置 SSH 服务...\")\n",
    "os.chdir(mcp_frp_dir)\n",
    "subprocess.run(['chmod', '+x', 'setupSSH.sh'])\n",
    "\n",
    "# 运行 setupSSH.sh\n",
    "ssh_result = subprocess.run(['./setupSSH.sh'], capture_output=True, text=True)\n",
    "if ssh_result.returncode == 0:\n",
    "    print(\"✅ SSH 服务设置成功\")\n",
    "else:\n",
    "    print(\"⚠️ SSH 服务设置可能有问题，但继续执行\")\n",
    "    if ssh_result.stderr:\n",
    "        print(f\"SSH 设置输出: {ssh_result.stderr[:200]}...\")  # 只显示前200字符\n",
    "\n",
    "# 运行 frpc 客户端\n",
    "print(\"正在启动 frpc 客户端...\")\n",
    "subprocess.run(['chmod', '+x', 'run-frpc.sh'])\n",
    "\n",
    "# 后台运行 frpc\n",
    "result = subprocess.run(['./run-frpc.sh', '-d'], capture_output=True, text=True)\n",
    "print(\"STDOUT:\", result.stdout)\n",
    "if result.stderr:\n",
    "    print(\"STDERR:\", result.stderr)\n",
    "\n",
    "if result.returncode == 0:\n",
    "    print(\"✅ frpc 客户端已启动\")\n",
    "    print(f\"🔗 SSH 连接: ssh -p 7502 root@{server_ip}\")\n",
    "    print(\"💡 提示: 如果是 colab 环境，用户名通常是 root\")\n",
    "else:\n",
    "    print(\"❌ frpc 启动失败\")\n"
   ]
  }
 ],
 "metadata": {
  "colab": {
   "authorship_tag": "ABX9TyO8jojMvibIrt0hkj5W+WkU",
   "provenance": []
  },
  "kernelspec": {
   "display_name": "Python 3",
   "name": "python3"
  },
  "language_info": {
   "name": "python"
  }
 },
 "nbformat": 4,
 "nbformat_minor": 0
}
