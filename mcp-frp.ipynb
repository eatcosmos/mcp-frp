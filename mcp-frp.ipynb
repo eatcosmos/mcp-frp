{
  "cells": [
    {
      "cell_type": "markdown",
      "source": [
        "# 挂载网盘\n",
        "/content/drive/MyDrive/code/ 用于存放代码"
      ],
      "metadata": {
        "id": "kF6DdVuxT5KH"
      }
    },
    {
      "cell_type": "code",
      "execution_count": 1,
      "metadata": {
        "id": "nj36YrOw2qFL",
        "outputId": "650f2360-3f94-4708-9c23-be2d60260008",
        "colab": {
          "base_uri": "https://localhost:8080/"
        }
      },
      "outputs": [
        {
          "output_type": "stream",
          "name": "stdout",
          "text": [
            "Mounted at /content/drive\n"
          ]
        }
      ],
      "source": [
        "import os\n",
        "from google.colab import drive\n",
        "if not os.path.exists('/content/drive'):\n",
        "  drive.mount('/content/drive')"
      ]
    },
    {
      "cell_type": "markdown",
      "source": [
        "# 下载代码"
      ],
      "metadata": {
        "id": "B7yaDoUOFdxW"
      }
    },
    {
      "cell_type": "code",
      "source": [
        "# 如果 /content/drive/MyDrive/code/mcp-frp/ 不存在则下载 https://github.com/eatcosmos/mcp-frp\n",
        "!mkdir -p /content/drive/MyDrive/code/\n",
        "!rm -rf /content/drive/MyDrive/code/mcp-frp/\n",
        "if not os.path.exists('/content/drive/MyDrive/code/mcp-frp/'):\n",
        "  %cd /content/drive/MyDrive/code/\n",
        "  !git clone https://github.com/eatcosmos/mcp-frp.git"
      ],
      "metadata": {
        "id": "T4Q8rjsGFfgF",
        "outputId": "ba0a4984-e9af-449a-872e-c5345acc4e6e",
        "colab": {
          "base_uri": "https://localhost:8080/"
        }
      },
      "execution_count": 2,
      "outputs": [
        {
          "output_type": "stream",
          "name": "stdout",
          "text": [
            "/content/drive/MyDrive/code\n",
            "Cloning into 'mcp-frp'...\n",
            "remote: Enumerating objects: 49, done.\u001b[K\n",
            "remote: Counting objects: 100% (49/49), done.\u001b[K\n",
            "remote: Compressing objects: 100% (35/35), done.\u001b[K\n",
            "remote: Total 49 (delta 16), reused 40 (delta 9), pack-reused 0 (from 0)\u001b[K\n",
            "Receiving objects: 100% (49/49), 9.30 MiB | 13.45 MiB/s, done.\n",
            "Resolving deltas: 100% (16/16), done.\n"
          ]
        }
      ]
    },
    {
      "cell_type": "markdown",
      "source": [
        "# 准备工作！\n",
        "1. 准备一个新账号，淘宝充值Colab PRO\n",
        "2. 把自己电脑常用的 id_rsa.pub 文件替换 /content/drive/MyDrive/code/mcp-frp/id_rsa.pub"
      ],
      "metadata": {
        "id": "mr404yoOFFUn"
      }
    },
    {
      "cell_type": "code",
      "source": [
        "\n",
        "!chmod +x /content/drive/MyDrive/code/mcp-frp/setupSSH.sh\n",
        "#PRO版本在终端里面运行 /content/drive/MyDrive/code/mcp-frp/setupSSH.sh\n",
        "!/content/drive/MyDrive/code/mcp-frp/setupSSH.sh\n",
        "# !ssh -p 22 root@127.0.0.1"
      ],
      "metadata": {
        "id": "Wm8PsKI6udhD",
        "outputId": "5ae2cc17-322e-4906-a092-864f8391205b",
        "colab": {
          "base_uri": "https://localhost:8080/"
        }
      },
      "execution_count": 3,
      "outputs": [
        {
          "output_type": "stream",
          "name": "stdout",
          "text": [
            "ssh-rsa AAAAB3NzaC1yc2EAAAADAQABAAABgQDP6FNjJvsc49car3uf7cVdHBBugKx7t6zqMdGubKq/bF3cPlDDbRu60PZOSRkgbC+HsCUSVfJv/QFajgqe7+nRYkeKEMEm40aBxJlzvPlB9ahrL/H55Wh6uSSjLQVs2k2xW7/k8YYyXWZPqoeTaerg0wxHE3YADpcbZJTSYf170hlbSbknVFlJJdAKM9Eq7yEATQoxoYzi479w7zC1Na4UI4puDyCcmH1FmYY7EfSCQdUd2vmXBHhrSn8KrJD9soA0pI4cN66EhqiO88Fqns3+yBXGayLDfp5abboO+JbBtLfFYxNtA32HPxwsU0lQkOP8tspCXNJdExFtCRoLZTHfPd7ITrEKAhTpNHwH9efjgrljjnVQb4is9d+347l2uhOya3JfdSYSi1LnaXstkHEvytnYs5oSiwybOprnVEfVfMqFIT/rr3GjxyTR9TEOX79t5ijWMKJGaeLQezEdrWx6scUMPidvojn+rH2X/NZ6vU4CLU9F93aP5aRRVNl91EE= ubuntu@LAPTOP-FSPULTNV\n",
            "\n",
            "WARNING: apt does not have a stable CLI interface. Use with caution in scripts.\n",
            "\n",
            "W: Skipping acquire of configured file 'main/source/Sources' as repository 'https://r2u.stat.illinois.edu/ubuntu jammy InRelease' does not seem to provide it (sources.list entry misspelt?)\n",
            "\n",
            "WARNING: apt does not have a stable CLI interface. Use with caution in scripts.\n",
            "\n",
            "\n",
            "Creating config file /etc/ssh/sshd_config with new version\n",
            "Creating SSH2 RSA key; this may take some time ...\n",
            "3072 SHA256:h2tWvFYqn7reXAaD6udCnsHoa6kd+WfBUpVNzVTbHeU root@a2a7a4b9603d (RSA)\n",
            "Creating SSH2 ECDSA key; this may take some time ...\n",
            "256 SHA256:k69Qim6w/jZahZRwZu6qTMgrzzQwsUrd1A1M3EZNjDY root@a2a7a4b9603d (ECDSA)\n",
            "Creating SSH2 ED25519 key; this may take some time ...\n",
            "256 SHA256:hRsxymC/cTKLnpgbImlEWw0SNqjdL4Yt7iUtAV0BJDc root@a2a7a4b9603d (ED25519)\n",
            "invoke-rc.d: could not determine current runlevel\n",
            "invoke-rc.d: policy-rc.d denied execution of start.\n",
            "Created symlink /etc/systemd/system/sshd.service → /lib/systemd/system/ssh.service.\n",
            "Created symlink /etc/systemd/system/multi-user.target.wants/ssh.service → /lib/systemd/system/ssh.service.\n",
            "Generating public/private rsa key pair.\n",
            "Your identification has been saved in /root/.ssh/id_rsa\n",
            "Your public key has been saved in /root/.ssh/id_rsa.pub\n",
            "The key fingerprint is:\n",
            "SHA256:lRtlQklDqDhw7arh6IzEsMlEmPF15RkhZPAYcCe5xiQ root@a2a7a4b9603d\n",
            "The key's randomart image is:\n",
            "+---[RSA 3072]----+\n",
            "|. ..*=*.+**.o    |\n",
            "|.+Eo+O.o.o.*     |\n",
            "|o..*.+..o +      |\n",
            "|.   * o  . o     |\n",
            "|.. . o  S .      |\n",
            "|=o. .            |\n",
            "|o* o             |\n",
            "|= o              |\n",
            "|oo               |\n",
            "+----[SHA256]-----+\n"
          ]
        }
      ]
    },
    {
      "cell_type": "code",
      "source": [
        "from google.colab import userdata\n",
        "\n",
        "%cd /content/drive/MyDrive/code/mcp-frp/\n",
        "!cp ./frp_0.63.0_linux_amd64/frpc-template.toml ./frp_0.63.0_linux_amd64/frpc.toml\n",
        "# 替换 ./frp_0.63.0_linux_amd64/frpc.toml 里面 serverAddr = \"127.0.0.1\" 为 serverAddr = userdata.get('FRPS_SERVER_IP')\n",
        "# 获取FRPS服务器IP\n",
        "frps_ip = userdata.get('FRPS_SERVER_IP')\n",
        "\n",
        "# 定义文件路径\n",
        "file_path = './frp_0.63.0_linux_amd64/frpc.toml'\n",
        "\n",
        "# 读取配置文件内容\n",
        "with open(file_path, 'r') as file:\n",
        "    content = file.read()\n",
        "\n",
        "# 替换服务器地址\n",
        "new_content = content.replace(\n",
        "    'serverAddr = \"127.0.0.1\"',\n",
        "    f'serverAddr = \"{frps_ip}\"'\n",
        ")\n",
        "\n",
        "# 写回配置文件\n",
        "with open(file_path, 'w') as file:\n",
        "    file.write(new_content)\n",
        "\n",
        "print(\"配置文件更新完成！\")"
      ],
      "metadata": {
        "id": "tMGAkTCr8Mgj",
        "outputId": "d2136028-540c-4d49-b895-33894845b415",
        "colab": {
          "base_uri": "https://localhost:8080/"
        }
      },
      "execution_count": 4,
      "outputs": [
        {
          "output_type": "stream",
          "name": "stdout",
          "text": [
            "/content/drive/MyDrive/code/mcp-frp\n",
            "配置文件更新完成！\n"
          ]
        }
      ]
    },
    {
      "cell_type": "code",
      "source": [
        "if not os.path.exists('/content/drive/MyDrive/code/.cursor/'):\n",
        "  !mkdir -p /content/drive/MyDrive/code/.cursor\n",
        "if not os.path.exists('/content/drive/MyDrive/code/.cursor-server/'):\n",
        "  !mkdir -p /content/drive/MyDrive/code/.cursor-server\n",
        "!rm -rf /root/.cursor\n",
        "!ln -sf /content/drive/MyDrive/code/.cursor /root/\n",
        "!rm -rf /root/.cursor-server\n",
        "!ln -sf /content/drive/MyDrive/code/.cursor-server /root/\n",
        "#\n",
        "!ls -la /root/.cursor-server"
      ],
      "metadata": {
        "id": "aOKI-khvPAfv",
        "outputId": "f4c75509-106b-4f50-962a-0fb2bfb614d6",
        "colab": {
          "base_uri": "https://localhost:8080/"
        }
      },
      "execution_count": 5,
      "outputs": [
        {
          "output_type": "stream",
          "name": "stdout",
          "text": [
            "lrwxrwxrwx 1 root root 42 Jul  3 08:15 /root/.cursor-server -> /content/drive/MyDrive/code/.cursor-server\n"
          ]
        }
      ]
    },
    {
      "cell_type": "code",
      "source": [
        "%cd /content/drive/MyDrive/code/mcp-frp/frp_0.63.0_linux_amd64/\n",
        "!chmod +x ./frpc\n",
        "# !cat ./frpc.toml\n",
        "# !./frpc -c ./frpc.toml\n",
        "!nohup ./frpc -c ./frpc.toml >/dev/null 2>&1 &"
      ],
      "metadata": {
        "colab": {
          "base_uri": "https://localhost:8080/"
        },
        "id": "fXKvgRxC835E",
        "outputId": "020a6862-89fd-49be-a82c-daeae955c0bc"
      },
      "execution_count": 6,
      "outputs": [
        {
          "output_type": "stream",
          "name": "stdout",
          "text": [
            "/content/drive/MyDrive/code/mcp-frp/frp_0.63.0_linux_amd64\n",
            "^C\n"
          ]
        }
      ]
    },
    {
      "cell_type": "markdown",
      "source": [
        "如果无法访问可以在自己的笔记本上运行下\n",
        "ssh -p 7502 root@FRPS_SERVER_IP"
      ],
      "metadata": {
        "id": "Dw5ar9mXNu_U"
      }
    }
  ],
  "metadata": {
    "colab": {
      "provenance": [],
      "machine_shape": "hm"
    },
    "kernelspec": {
      "display_name": "Python 3",
      "name": "python3"
    },
    "language_info": {
      "name": "python"
    }
  },
  "nbformat": 4,
  "nbformat_minor": 0
}