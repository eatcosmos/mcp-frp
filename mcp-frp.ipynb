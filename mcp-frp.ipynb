{
  "cells": [
    {
      "cell_type": "markdown",
      "metadata": {
        "id": "view-in-github",
        "colab_type": "text"
      },
      "source": [
        "<a href=\"https://colab.research.google.com/github/eatcosmos/mcp-frp/blob/master/mcp-frp.ipynb\" target=\"_parent\"><img src=\"https://colab.research.google.com/assets/colab-badge.svg\" alt=\"Open In Colab\"/></a>"
      ]
    },
    {
      "cell_type": "markdown",
      "source": [
        "# 挂载网盘\n",
        "/content/drive/MyDrive/code/ 用于存放代码"
      ],
      "metadata": {
        "id": "kF6DdVuxT5KH"
      }
    },
    {
      "cell_type": "code",
      "execution_count": null,
      "metadata": {
        "id": "nj36YrOw2qFL"
      },
      "outputs": [],
      "source": [
        "import os\n",
        "from google.colab import drive\n",
        "if not os.path.exists('/content/drive'):\n",
        "  drive.mount('/content/drive')"
      ]
    },
    {
      "cell_type": "markdown",
      "source": [
        "# 下载代码"
      ],
      "metadata": {
        "id": "B7yaDoUOFdxW"
      }
    },
    {
      "cell_type": "code",
      "source": [
        "# 如果 /content/drive/MyDrive/code/mcp-frp/ 不存在则下载 https://github.com/eatcosmos/mcp-frp\n",
        "!mkdir -p /content/drive/MyDrive/code/\n",
        "!rm -rf /content/drive/MyDrive/code/mcp-frp/\n",
        "if not os.path.exists('/content/drive/MyDrive/code/mcp-frp/'):\n",
        "  %cd /content/drive/MyDrive/code/\n",
        "  !git clone https://github.com/eatcosmos/mcp-frp.git"
      ],
      "metadata": {
        "id": "T4Q8rjsGFfgF"
      },
      "execution_count": null,
      "outputs": []
    },
    {
      "cell_type": "markdown",
      "source": [
        "# 准备工作！\n",
        "1. 准备一个新账号，淘宝充值Colab PRO\n",
        "2. 把自己电脑常用的 id_rsa.pub 文件替换 /content/drive/MyDrive/code/mcp-frp/id_rsa.pub"
      ],
      "metadata": {
        "id": "mr404yoOFFUn"
      }
    },
    {
      "cell_type": "code",
      "source": [
        "\n",
        "!chmod +x /content/drive/MyDrive/code/mcp-frp/setupSSH.sh\n",
        "#PRO版本在终端里面运行 /content/drive/MyDrive/code/mcp-frp/setupSSH.sh\n",
        "!/content/drive/MyDrive/code/mcp-frp/setupSSH.sh\n",
        "# !ssh -p 22 root@127.0.0.1"
      ],
      "metadata": {
        "id": "Wm8PsKI6udhD"
      },
      "execution_count": null,
      "outputs": []
    },
    {
      "cell_type": "code",
      "source": [
        "from google.colab import userdata\n",
        "\n",
        "%cd /content/drive/MyDrive/code/mcp-frp/\n",
        "!cp ./frp_0.63.0_linux_amd64/frpc-template.toml ./frp_0.63.0_linux_amd64/frpc.toml\n",
        "# 替换 ./frp_0.63.0_linux_amd64/frpc.toml 里面 serverAddr = \"127.0.0.1\" 为 serverAddr = userdata.get('FRPS_SERVER_IP')\n",
        "# 获取FRPS服务器IP\n",
        "frps_ip = userdata.get('FRPS_SERVER_IP')\n",
        "\n",
        "# 定义文件路径\n",
        "file_path = './frp_0.63.0_linux_amd64/frpc.toml'\n",
        "\n",
        "# 读取配置文件内容\n",
        "with open(file_path, 'r') as file:\n",
        "    content = file.read()\n",
        "\n",
        "# 替换服务器地址\n",
        "new_content = content.replace(\n",
        "    'serverAddr = \"127.0.0.1\"',\n",
        "    f'serverAddr = \"{frps_ip}\"'\n",
        ")\n",
        "\n",
        "# 写回配置文件\n",
        "with open(file_path, 'w') as file:\n",
        "    file.write(new_content)\n",
        "\n",
        "print(\"配置文件更新完成！\")"
      ],
      "metadata": {
        "id": "tMGAkTCr8Mgj"
      },
      "execution_count": null,
      "outputs": []
    },
    {
      "cell_type": "code",
      "source": [
        "if not os.path.exists('/content/drive/MyDrive/code/.cursor/'):\n",
        "  !mkdir -p /content/drive/MyDrive/code/.cursor\n",
        "if not os.path.exists('/content/drive/MyDrive/code/.cursor-server/'):\n",
        "  !mkdir -p /content/drive/MyDrive/code/.cursor-server\n",
        "!rm -rf /root/.cursor\n",
        "!ln -sf /content/drive/MyDrive/code/.cursor /root/\n",
        "!rm -rf /root/.cursor-server\n",
        "!ln -sf /content/drive/MyDrive/code/.cursor-server /root/\n",
        "#\n",
        "!ls -la /root/.cursor-server"
      ],
      "metadata": {
        "id": "aOKI-khvPAfv"
      },
      "execution_count": null,
      "outputs": []
    },
    {
      "cell_type": "code",
      "source": [
        "%cd /content/drive/MyDrive/code/mcp-frp/frp_0.63.0_linux_amd64/\n",
        "!chmod +x ./frpc\n",
        "# !cat ./frpc.toml\n",
        "!./frpc -c ./frpc.toml"
      ],
      "metadata": {
        "colab": {
          "base_uri": "https://localhost:8080/"
        },
        "id": "fXKvgRxC835E",
        "outputId": "39ced493-25a2-44db-8f67-e951b13b04eb"
      },
      "execution_count": null,
      "outputs": [
        {
          "metadata": {
            "tags": null
          },
          "name": "stdout",
          "output_type": "stream",
          "text": [
            "/content/drive/MyDrive/code/mcp-frp/frp_0.63.0_linux_amd64\n"
          ]
        }
      ]
    },
    {
      "cell_type": "markdown",
      "source": [
        "如果无法访问可以在自己的笔记本上运行下\n",
        "ssh -p 7502 root@FRPS_SERVER_IP"
      ],
      "metadata": {
        "id": "Dw5ar9mXNu_U"
      }
    }
  ],
  "metadata": {
    "colab": {
      "provenance": [],
      "history_visible": true,
      "machine_shape": "hm",
      "include_colab_link": true
    },
    "kernelspec": {
      "display_name": "Python 3",
      "name": "python3"
    },
    "language_info": {
      "name": "python"
    }
  },
  "nbformat": 4,
  "nbformat_minor": 0
}